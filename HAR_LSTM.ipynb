{
 "cells": [
  {
   "cell_type": "code",
   "execution_count": 1,
   "metadata": {
    "colab": {
     "base_uri": "https://localhost:8080/",
     "height": 144
    },
    "colab_type": "code",
    "id": "uM1WJN48MJyl",
    "outputId": "5fcb5dfd-97b1-4c21-843c-882502e63e64"
   },
   "outputs": [
    {
     "name": "stdout",
     "output_type": "stream",
     "text": [
      "Go to this URL in a browser: https://accounts.google.com/o/oauth2/auth?client_id=947318989803-6bn6qk8qdgf4n4g3pfee6491hc0brc4i.apps.googleusercontent.com&redirect_uri=urn%3Aietf%3Awg%3Aoauth%3A2.0%3Aoob&scope=email%20https%3A%2F%2Fwww.googleapis.com%2Fauth%2Fdocs.test%20https%3A%2F%2Fwww.googleapis.com%2Fauth%2Fdrive%20https%3A%2F%2Fwww.googleapis.com%2Fauth%2Fdrive.photos.readonly%20https%3A%2F%2Fwww.googleapis.com%2Fauth%2Fpeopleapi.readonly&response_type=code\n",
      "\n",
      "Enter your authorization code:\n",
      "··········\n",
      "Mounted at /gdrive\n",
      "/gdrive\n"
     ]
    }
   ],
   "source": [
    "from google.colab import drive\n",
    "drive.mount('/gdrive')\n",
    "%cd /gdrive"
   ]
  },
  {
   "cell_type": "code",
   "execution_count": 0,
   "metadata": {
    "colab": {},
    "colab_type": "code",
    "id": "eUMAywiJLq-g"
   },
   "outputs": [],
   "source": [
    "# Importing Libraries"
   ]
  },
  {
   "cell_type": "code",
   "execution_count": 0,
   "metadata": {
    "colab": {},
    "colab_type": "code",
    "id": "xZ2ELv3vLq-z"
   },
   "outputs": [],
   "source": [
    "import pandas as pd\n",
    "import numpy as np"
   ]
  },
  {
   "cell_type": "code",
   "execution_count": 0,
   "metadata": {
    "colab": {},
    "colab_type": "code",
    "id": "Do4cuepbLq-_"
   },
   "outputs": [],
   "source": [
    "# Activities are the class labels\n",
    "# It is a 6 class classification\n",
    "ACTIVITIES = {\n",
    "    0: 'WALKING',\n",
    "    1: 'WALKING_UPSTAIRS',\n",
    "    2: 'WALKING_DOWNSTAIRS',\n",
    "    3: 'SITTING',\n",
    "    4: 'STANDING',\n",
    "    5: 'LAYING',\n",
    "}\n",
    "\n",
    "# Utility function to print the confusion matrix\n",
    "def confusion_matrix(Y_true, Y_pred):\n",
    "    Y_true = pd.Series([ACTIVITIES[y] for y in np.argmax(Y_true, axis=1)])\n",
    "    Y_pred = pd.Series([ACTIVITIES[y] for y in np.argmax(Y_pred, axis=1)])\n",
    "\n",
    "    return pd.crosstab(Y_true, Y_pred, rownames=['True'], colnames=['Pred'])"
   ]
  },
  {
   "cell_type": "markdown",
   "metadata": {
    "colab_type": "text",
    "id": "tMDeiWu1Lq_K"
   },
   "source": [
    "### Data"
   ]
  },
  {
   "cell_type": "code",
   "execution_count": 0,
   "metadata": {
    "colab": {},
    "colab_type": "code",
    "id": "x6a0o9ELLq_O"
   },
   "outputs": [],
   "source": [
    "# Data directory\n",
    "DATADIR = 'UCI_HAR_Dataset'"
   ]
  },
  {
   "cell_type": "code",
   "execution_count": 0,
   "metadata": {
    "colab": {},
    "colab_type": "code",
    "id": "uiiX41D_Lq_a"
   },
   "outputs": [],
   "source": [
    "# Raw data signals\n",
    "# Signals are from Accelerometer and Gyroscope\n",
    "# The signals are in x,y,z directions\n",
    "# Sensor signals are filtered to have only body acceleration\n",
    "# excluding the acceleration due to gravity\n",
    "# Triaxial acceleration from the accelerometer is total acceleration\n",
    "SIGNALS = [\n",
    "    \"body_acc_x\",\n",
    "    \"body_acc_y\",\n",
    "    \"body_acc_z\",\n",
    "    \"body_gyro_x\",\n",
    "    \"body_gyro_y\",\n",
    "    \"body_gyro_z\",\n",
    "    \"total_acc_x\",\n",
    "    \"total_acc_y\",\n",
    "    \"total_acc_z\"\n",
    "]"
   ]
  },
  {
   "cell_type": "code",
   "execution_count": 0,
   "metadata": {
    "colab": {},
    "colab_type": "code",
    "id": "AHJIAwr4Lq_l"
   },
   "outputs": [],
   "source": [
    "# Utility function to read the data from csv file\n",
    "def _read_csv(filename):\n",
    "    return pd.read_csv(filename, delim_whitespace=True, header=None)\n",
    "\n",
    "# Utility function to load the load\n",
    "def load_signals(subset):\n",
    "    signals_data = []\n",
    "\n",
    "    for signal in SIGNALS:\n",
    "        filename = f'My Drive/HAR/UCI_HAR_Dataset/{subset}/Inertial Signals/{signal}_{subset}.txt'\n",
    "        signals_data.append(\n",
    "            _read_csv(filename).as_matrix()\n",
    "        ) \n",
    "\n",
    "    # Transpose is used to change the dimensionality of the output,\n",
    "    # aggregating the signals by combination of sample/timestep.\n",
    "    # Resultant shape is (7352 train/2947 test samples, 128 timesteps, 9 signals)\n",
    "    return np.transpose(signals_data, (1, 2, 0))\n",
    "  #gdrive/My Drive/HAR/UCI_HAR_Dataset/train/Inertial Signals/body_acc_x_train.txt"
   ]
  },
  {
   "cell_type": "code",
   "execution_count": 0,
   "metadata": {
    "colab": {},
    "colab_type": "code",
    "id": "OqGp02zOLq_x"
   },
   "outputs": [],
   "source": [
    "\n",
    "def load_y(subset):\n",
    "    \"\"\"\n",
    "    The objective that we are trying to predict is a integer, from 1 to 6,\n",
    "    that represents a human activity. We return a binary representation of \n",
    "    every sample objective as a 6 bits vector using One Hot Encoding\n",
    "    (https://pandas.pydata.org/pandas-docs/stable/generated/pandas.get_dummies.html)\n",
    "    \"\"\"\n",
    "    filename = f'My Drive/HAR/UCI_HAR_Dataset/{subset}/y_{subset}.txt'\n",
    "    y = _read_csv(filename)[0]\n",
    "\n",
    "    return pd.get_dummies(y).as_matrix()"
   ]
  },
  {
   "cell_type": "code",
   "execution_count": 0,
   "metadata": {
    "colab": {},
    "colab_type": "code",
    "id": "4hzbUSboLq_6"
   },
   "outputs": [],
   "source": [
    "def load_data():\n",
    "    \"\"\"\n",
    "    Obtain the dataset from multiple files.\n",
    "    Returns: X_train, X_test, y_train, y_test\n",
    "    \"\"\"\n",
    "    X_train, X_test = load_signals('train'), load_signals('test')\n",
    "    y_train, y_test = load_y('train'), load_y('test')\n",
    "\n",
    "    return X_train, X_test, y_train, y_test"
   ]
  },
  {
   "cell_type": "code",
   "execution_count": 0,
   "metadata": {
    "colab": {},
    "colab_type": "code",
    "id": "V5LRZ6oTLrAB"
   },
   "outputs": [],
   "source": [
    "# Importing tensorflow\n",
    "np.random.seed(42)\n",
    "import tensorflow as tf\n",
    "tf.set_random_seed(42)"
   ]
  },
  {
   "cell_type": "code",
   "execution_count": 0,
   "metadata": {
    "colab": {},
    "colab_type": "code",
    "id": "yHE-EIqNLrAK"
   },
   "outputs": [],
   "source": [
    "# Configuring a session\n",
    "session_conf = tf.ConfigProto(\n",
    "    intra_op_parallelism_threads=1,\n",
    "    inter_op_parallelism_threads=1\n",
    ")"
   ]
  },
  {
   "cell_type": "code",
   "execution_count": 12,
   "metadata": {
    "colab": {
     "base_uri": "https://localhost:8080/",
     "height": 35
    },
    "colab_type": "code",
    "id": "Ed9OSmt3LrAQ",
    "outputId": "9831d998-f78d-4176-c2af-c2c2c59c6dfa"
   },
   "outputs": [
    {
     "name": "stderr",
     "output_type": "stream",
     "text": [
      "Using TensorFlow backend.\n"
     ]
    }
   ],
   "source": [
    "# Import Keras\n",
    "from keras import backend as K\n",
    "sess = tf.Session(graph=tf.get_default_graph(), config=session_conf)\n",
    "K.set_session(sess)"
   ]
  },
  {
   "cell_type": "code",
   "execution_count": 0,
   "metadata": {
    "colab": {},
    "colab_type": "code",
    "id": "zGvYxoOKLrAV"
   },
   "outputs": [],
   "source": [
    "# Importing libraries\n",
    "from keras.models import Sequential\n",
    "from keras.layers import LSTM\n",
    "from keras.layers.core import Dense, Dropout"
   ]
  },
  {
   "cell_type": "code",
   "execution_count": 0,
   "metadata": {
    "colab": {},
    "colab_type": "code",
    "id": "hIx5SH6qLrAZ"
   },
   "outputs": [],
   "source": [
    "# Initializing parameters\n",
    "epochs = 30\n",
    "batch_size = 16\n",
    "n_hidden = 32"
   ]
  },
  {
   "cell_type": "code",
   "execution_count": 0,
   "metadata": {
    "colab": {},
    "colab_type": "code",
    "id": "8LihWWdpLrAd"
   },
   "outputs": [],
   "source": [
    "# Utility function to count the number of classes\n",
    "def _count_classes(y):\n",
    "    return len(set([tuple(category) for category in y]))"
   ]
  },
  {
   "cell_type": "code",
   "execution_count": 16,
   "metadata": {
    "colab": {
     "base_uri": "https://localhost:8080/",
     "height": 108
    },
    "colab_type": "code",
    "id": "owaS7UmYLrAh",
    "outputId": "1ac3fde8-5e0c-4196-8193-303402cb8cb3"
   },
   "outputs": [
    {
     "name": "stderr",
     "output_type": "stream",
     "text": [
      "/usr/local/lib/python3.6/dist-packages/ipykernel_launcher.py:11: FutureWarning: Method .as_matrix will be removed in a future version. Use .values instead.\n",
      "  # This is added back by InteractiveShellApp.init_path()\n",
      "/usr/local/lib/python3.6/dist-packages/ipykernel_launcher.py:12: FutureWarning: Method .as_matrix will be removed in a future version. Use .values instead.\n",
      "  if sys.path[0] == '':\n"
     ]
    }
   ],
   "source": [
    "# Loading the train and test data\n",
    "X_train, X_test, Y_train, Y_test = load_data()"
   ]
  },
  {
   "cell_type": "code",
   "execution_count": 17,
   "metadata": {
    "colab": {
     "base_uri": "https://localhost:8080/",
     "height": 35
    },
    "colab_type": "code",
    "id": "KhZgFpeULrAm",
    "outputId": "72c2d45c-03ce-4627-b3be-b968f3a1a0dd"
   },
   "outputs": [
    {
     "data": {
      "text/plain": [
       "numpy.ndarray"
      ]
     },
     "execution_count": 17,
     "metadata": {
      "tags": []
     },
     "output_type": "execute_result"
    }
   ],
   "source": [
    "type(X_train)"
   ]
  },
  {
   "cell_type": "code",
   "execution_count": 18,
   "metadata": {
    "colab": {
     "base_uri": "https://localhost:8080/",
     "height": 35
    },
    "colab_type": "code",
    "id": "y5kjqL3mLrAt",
    "outputId": "dd0c7c47-e3a6-4f6d-8967-28fa08f1bc05"
   },
   "outputs": [
    {
     "data": {
      "text/plain": [
       "(7352, 128, 9)"
      ]
     },
     "execution_count": 18,
     "metadata": {
      "tags": []
     },
     "output_type": "execute_result"
    }
   ],
   "source": [
    "X_train.shape"
   ]
  },
  {
   "cell_type": "code",
   "execution_count": 19,
   "metadata": {
    "colab": {
     "base_uri": "https://localhost:8080/",
     "height": 35
    },
    "colab_type": "code",
    "id": "VIjKHxQ6LrAz",
    "outputId": "f28d0989-6656-4879-ece2-fb47a5e6b9f5"
   },
   "outputs": [
    {
     "data": {
      "text/plain": [
       "(2947, 128, 9)"
      ]
     },
     "execution_count": 19,
     "metadata": {
      "tags": []
     },
     "output_type": "execute_result"
    }
   ],
   "source": [
    "\n",
    "X_test.shape"
   ]
  },
  {
   "cell_type": "code",
   "execution_count": 20,
   "metadata": {
    "colab": {
     "base_uri": "https://localhost:8080/",
     "height": 70
    },
    "colab_type": "code",
    "id": "6-rnjziELrA5",
    "outputId": "01ffb412-a6a4-41f3-c96a-7ef3e95b2f45"
   },
   "outputs": [
    {
     "name": "stdout",
     "output_type": "stream",
     "text": [
      "128\n",
      "9\n",
      "7352\n"
     ]
    }
   ],
   "source": [
    "timesteps = len(X_train[0])\n",
    "input_dim = len(X_train[0][0])\n",
    "n_classes = _count_classes(Y_train)\n",
    "\n",
    "print(timesteps)\n",
    "print(input_dim)\n",
    "print(len(X_train))"
   ]
  },
  {
   "cell_type": "markdown",
   "metadata": {
    "colab_type": "text",
    "id": "1robPX9WLrBA"
   },
   "source": [
    "- Defining the Architecture of LSTM"
   ]
  },
  {
   "cell_type": "code",
   "execution_count": 0,
   "metadata": {
    "colab": {},
    "colab_type": "code",
    "id": "7HMGhzuMLrBB",
    "outputId": "8078177b-f2a6-43c1-a1a4-bd4b1c480472"
   },
   "outputs": [
    {
     "name": "stdout",
     "output_type": "stream",
     "text": [
      "_________________________________________________________________\n",
      "Layer (type)                 Output Shape              Param #   \n",
      "=================================================================\n",
      "lstm_3 (LSTM)                (None, 32)                5376      \n",
      "_________________________________________________________________\n",
      "dropout_3 (Dropout)          (None, 32)                0         \n",
      "_________________________________________________________________\n",
      "dense_3 (Dense)              (None, 6)                 198       \n",
      "=================================================================\n",
      "Total params: 5,574\n",
      "Trainable params: 5,574\n",
      "Non-trainable params: 0\n",
      "_________________________________________________________________\n"
     ]
    }
   ],
   "source": [
    "# Initiliazing the sequential model\n",
    "model = Sequential()\n",
    "# Configuring the parameters\n",
    "model.add(LSTM(n_hidden, input_shape=(timesteps, input_dim)))\n",
    "# Adding a dropout layer\n",
    "model.add(Dropout(0.5))\n",
    "# Adding a dense output layer with sigmoid activation\n",
    "model.add(Dense(n_classes, activation='sigmoid'))\n",
    "model.summary()"
   ]
  },
  {
   "cell_type": "code",
   "execution_count": 0,
   "metadata": {
    "colab": {},
    "colab_type": "code",
    "id": "Wv7ftcaFLrBF"
   },
   "outputs": [],
   "source": [
    "# Compiling the model\n",
    "model.compile(loss='categorical_crossentropy',\n",
    "              optimizer='rmsprop',\n",
    "              metrics=['accuracy'])"
   ]
  },
  {
   "cell_type": "code",
   "execution_count": 0,
   "metadata": {
    "colab": {},
    "colab_type": "code",
    "id": "6lAhl6KCLrBI",
    "outputId": "46421e9a-ee3b-4ecb-8fba-5f54a3c6f582"
   },
   "outputs": [
    {
     "name": "stdout",
     "output_type": "stream",
     "text": [
      "Train on 7352 samples, validate on 2947 samples\n",
      "Epoch 1/30\n",
      "7352/7352 [==============================] - 92s 13ms/step - loss: 1.3018 - acc: 0.4395 - val_loss: 1.1254 - val_acc: 0.4662\n",
      "Epoch 2/30\n",
      "7352/7352 [==============================] - 94s 13ms/step - loss: 0.9666 - acc: 0.5880 - val_loss: 0.9491 - val_acc: 0.5714\n",
      "Epoch 3/30\n",
      "7352/7352 [==============================] - 97s 13ms/step - loss: 0.7812 - acc: 0.6408 - val_loss: 0.8286 - val_acc: 0.5850\n",
      "Epoch 4/30\n",
      "7352/7352 [==============================] - 95s 13ms/step - loss: 0.6941 - acc: 0.6574 - val_loss: 0.7297 - val_acc: 0.6128\n",
      "Epoch 5/30\n",
      "7352/7352 [==============================] - 92s 13ms/step - loss: 0.6336 - acc: 0.6912 - val_loss: 0.7359 - val_acc: 0.6787\n",
      "Epoch 6/30\n",
      "7352/7352 [==============================] - 94s 13ms/step - loss: 0.5859 - acc: 0.7134 - val_loss: 0.7015 - val_acc: 0.6939\n",
      "Epoch 7/30\n",
      "7352/7352 [==============================] - 95s 13ms/step - loss: 0.5692 - acc: 0.7477 - val_loss: 0.5995 - val_acc: 0.7387\n",
      "Epoch 8/30\n",
      "7352/7352 [==============================] - 96s 13ms/step - loss: 0.4899 - acc: 0.7809 - val_loss: 0.5762 - val_acc: 0.7387\n",
      "Epoch 9/30\n",
      "7352/7352 [==============================] - 90s 12ms/step - loss: 0.4482 - acc: 0.7886 - val_loss: 0.7413 - val_acc: 0.7126\n",
      "Epoch 10/30\n",
      "7352/7352 [==============================] - 90s 12ms/step - loss: 0.4132 - acc: 0.8077 - val_loss: 0.5048 - val_acc: 0.7513\n",
      "Epoch 11/30\n",
      "7352/7352 [==============================] - 89s 12ms/step - loss: 0.3985 - acc: 0.8274 - val_loss: 0.5234 - val_acc: 0.7452\n",
      "Epoch 12/30\n",
      "7352/7352 [==============================] - 91s 12ms/step - loss: 0.3378 - acc: 0.8638 - val_loss: 0.4114 - val_acc: 0.8833\n",
      "Epoch 13/30\n",
      "7352/7352 [==============================] - 91s 12ms/step - loss: 0.2947 - acc: 0.9051 - val_loss: 0.4386 - val_acc: 0.8731\n",
      "Epoch 14/30\n",
      "7352/7352 [==============================] - 90s 12ms/step - loss: 0.2448 - acc: 0.9291 - val_loss: 0.3768 - val_acc: 0.8921\n",
      "Epoch 15/30\n",
      "7352/7352 [==============================] - 91s 12ms/step - loss: 0.2157 - acc: 0.9331 - val_loss: 0.4441 - val_acc: 0.8931\n",
      "Epoch 16/30\n",
      "7352/7352 [==============================] - 90s 12ms/step - loss: 0.2053 - acc: 0.9366 - val_loss: 0.4162 - val_acc: 0.8968\n",
      "Epoch 17/30\n",
      "7352/7352 [==============================] - 89s 12ms/step - loss: 0.2028 - acc: 0.9404 - val_loss: 0.4538 - val_acc: 0.8962\n",
      "Epoch 18/30\n",
      "7352/7352 [==============================] - 93s 13ms/step - loss: 0.1911 - acc: 0.9419 - val_loss: 0.3964 - val_acc: 0.8999\n",
      "Epoch 19/30\n",
      "7352/7352 [==============================] - 96s 13ms/step - loss: 0.1912 - acc: 0.9407 - val_loss: 0.3165 - val_acc: 0.9030\n",
      "Epoch 20/30\n",
      "7352/7352 [==============================] - 96s 13ms/step - loss: 0.1732 - acc: 0.9446 - val_loss: 0.4546 - val_acc: 0.8904\n",
      "Epoch 21/30\n",
      "7352/7352 [==============================] - 94s 13ms/step - loss: 0.1782 - acc: 0.9444 - val_loss: 0.3346 - val_acc: 0.9063\n",
      "Epoch 22/30\n",
      "7352/7352 [==============================] - 95s 13ms/step - loss: 0.1812 - acc: 0.9418 - val_loss: 0.8164 - val_acc: 0.8582\n",
      "Epoch 23/30\n",
      "7352/7352 [==============================] - 95s 13ms/step - loss: 0.1824 - acc: 0.9426 - val_loss: 0.4240 - val_acc: 0.9036\n",
      "Epoch 24/30\n",
      "7352/7352 [==============================] - 94s 13ms/step - loss: 0.1726 - acc: 0.9429 - val_loss: 0.4067 - val_acc: 0.9148\n",
      "Epoch 25/30\n",
      "7352/7352 [==============================] - 96s 13ms/step - loss: 0.1737 - acc: 0.9411 - val_loss: 0.3396 - val_acc: 0.9074\n",
      "Epoch 26/30\n",
      "7352/7352 [==============================] - 96s 13ms/step - loss: 0.1650 - acc: 0.9461 - val_loss: 0.3806 - val_acc: 0.9019\n",
      "Epoch 27/30\n",
      "7352/7352 [==============================] - 89s 12ms/step - loss: 0.1925 - acc: 0.9415 - val_loss: 0.6464 - val_acc: 0.8850\n",
      "Epoch 28/30\n",
      "7352/7352 [==============================] - 91s 12ms/step - loss: 0.1965 - acc: 0.9425 - val_loss: 0.3363 - val_acc: 0.9203\n",
      "Epoch 29/30\n",
      "7352/7352 [==============================] - 92s 12ms/step - loss: 0.1889 - acc: 0.9431 - val_loss: 0.3737 - val_acc: 0.9158\n",
      "Epoch 30/30\n",
      "7352/7352 [==============================] - 95s 13ms/step - loss: 0.1945 - acc: 0.9414 - val_loss: 0.3088 - val_acc: 0.9097\n"
     ]
    },
    {
     "data": {
      "text/plain": [
       "<keras.callbacks.History at 0x29b5ee36a20>"
      ]
     },
     "execution_count": 23,
     "metadata": {
      "tags": []
     },
     "output_type": "execute_result"
    }
   ],
   "source": [
    "# Training the model\n",
    "model.fit(X_train,\n",
    "          Y_train,\n",
    "          batch_size=batch_size,\n",
    "          validation_data=(X_test, Y_test),\n",
    "          epochs=epochs)"
   ]
  },
  {
   "cell_type": "code",
   "execution_count": 0,
   "metadata": {
    "colab": {},
    "colab_type": "code",
    "id": "RUrLHA_7LrBP",
    "outputId": "38bd5e6c-241b-444b-c740-2841e2b3c90b"
   },
   "outputs": [
    {
     "name": "stdout",
     "output_type": "stream",
     "text": [
      "Pred                LAYING  SITTING  STANDING  WALKING  WALKING_DOWNSTAIRS  \\\n",
      "True                                                                         \n",
      "LAYING                 512        0        25        0                   0   \n",
      "SITTING                  3      410        75        0                   0   \n",
      "STANDING                 0       87       445        0                   0   \n",
      "WALKING                  0        0         0      481                   2   \n",
      "WALKING_DOWNSTAIRS       0        0         0        0                 382   \n",
      "WALKING_UPSTAIRS         0        0         0        2                  18   \n",
      "\n",
      "Pred                WALKING_UPSTAIRS  \n",
      "True                                  \n",
      "LAYING                             0  \n",
      "SITTING                            3  \n",
      "STANDING                           0  \n",
      "WALKING                           13  \n",
      "WALKING_DOWNSTAIRS                38  \n",
      "WALKING_UPSTAIRS                 451  \n"
     ]
    }
   ],
   "source": [
    "# Confusion Matrix\n",
    "print(confusion_matrix(Y_test, model.predict(X_test)))"
   ]
  },
  {
   "cell_type": "code",
   "execution_count": 0,
   "metadata": {
    "colab": {},
    "colab_type": "code",
    "id": "yQotQu7GLrBV",
    "outputId": "2787d6f2-a0ad-41a7-b99a-0e2ce2481c39"
   },
   "outputs": [
    {
     "name": "stdout",
     "output_type": "stream",
     "text": [
      "2947/2947 [==============================] - 4s 2ms/step\n"
     ]
    }
   ],
   "source": [
    "score = model.evaluate(X_test, Y_test)"
   ]
  },
  {
   "cell_type": "code",
   "execution_count": 0,
   "metadata": {
    "colab": {},
    "colab_type": "code",
    "id": "rb0TG1AWLrBa",
    "outputId": "956803a4-33df-4d02-82c9-9f9a607dcde1"
   },
   "outputs": [
    {
     "data": {
      "text/plain": [
       "[0.3087582236972612, 0.9097387173396675]"
      ]
     },
     "execution_count": 28,
     "metadata": {
      "tags": []
     },
     "output_type": "execute_result"
    }
   ],
   "source": [
    "score"
   ]
  },
  {
   "cell_type": "markdown",
   "metadata": {
    "colab_type": "text",
    "id": "o3R5UKdULrBf"
   },
   "source": [
    "- With a simple 2 layer architecture we got 90.09% accuracy and a loss of 0.30\n",
    "- We can further imporve the performace with Hyperparameter tuning"
   ]
  },
  {
   "cell_type": "code",
   "execution_count": 0,
   "metadata": {
    "colab": {},
    "colab_type": "code",
    "id": "P4xPHaHKTYSj"
   },
   "outputs": [],
   "source": [
    "# Initializing parameters\n",
    "epochs = 30\n",
    "batch_size = 16\n",
    "n_hidden = 32"
   ]
  },
  {
   "cell_type": "code",
   "execution_count": 0,
   "metadata": {
    "colab": {
     "base_uri": "https://localhost:8080/",
     "height": 375
    },
    "colab_type": "code",
    "id": "OvxXozDdRIwR",
    "outputId": "68e8f401-1394-4028-83ee-6c78b7ec538d"
   },
   "outputs": [
    {
     "name": "stdout",
     "output_type": "stream",
     "text": [
      "WARNING:tensorflow:From /usr/local/lib/python3.6/dist-packages/tensorflow/python/framework/op_def_library.py:263: colocate_with (from tensorflow.python.framework.ops) is deprecated and will be removed in a future version.\n",
      "Instructions for updating:\n",
      "Colocations handled automatically by placer.\n",
      "WARNING:tensorflow:From /usr/local/lib/python3.6/dist-packages/keras/backend/tensorflow_backend.py:3445: calling dropout (from tensorflow.python.ops.nn_ops) with keep_prob is deprecated and will be removed in a future version.\n",
      "Instructions for updating:\n",
      "Please use `rate` instead of `keep_prob`. Rate should be set to `rate = 1 - keep_prob`.\n",
      "_________________________________________________________________\n",
      "Layer (type)                 Output Shape              Param #   \n",
      "=================================================================\n",
      "lstm_1 (LSTM)                (None, 32)                5376      \n",
      "_________________________________________________________________\n",
      "dropout_1 (Dropout)          (None, 32)                0         \n",
      "_________________________________________________________________\n",
      "dense_1 (Dense)              (None, 6)                 198       \n",
      "=================================================================\n",
      "Total params: 5,574\n",
      "Trainable params: 5,574\n",
      "Non-trainable params: 0\n",
      "_________________________________________________________________\n"
     ]
    }
   ],
   "source": [
    "# Initiliazing the sequential model\n",
    "model = Sequential()\n",
    "# Configuring the parameters\n",
    "model.add(LSTM(n_hidden, input_shape=(timesteps, input_dim)))\n",
    "# Adding a dropout layer\n",
    "model.add(Dropout(0.6))\n",
    "# Adding a dense output layer with sigmoid activation\n",
    "model.add(Dense(n_classes, activation='sigmoid'))\n",
    "model.summary()"
   ]
  },
  {
   "cell_type": "code",
   "execution_count": 0,
   "metadata": {
    "colab": {},
    "colab_type": "code",
    "id": "QFYZTaMzSfyu"
   },
   "outputs": [],
   "source": [
    "# Compiling the model\n",
    "model.compile(loss='categorical_crossentropy',\n",
    "              optimizer='rmsprop',\n",
    "              metrics=['accuracy'])"
   ]
  },
  {
   "cell_type": "code",
   "execution_count": 0,
   "metadata": {
    "colab": {
     "base_uri": "https://localhost:8080/",
     "height": 1192
    },
    "colab_type": "code",
    "id": "IvRlac7PSj76",
    "outputId": "e896333f-42df-4bd6-ad09-32e225ad1623"
   },
   "outputs": [
    {
     "name": "stdout",
     "output_type": "stream",
     "text": [
      "WARNING:tensorflow:From /usr/local/lib/python3.6/dist-packages/tensorflow/python/ops/math_ops.py:3066: to_int32 (from tensorflow.python.ops.math_ops) is deprecated and will be removed in a future version.\n",
      "Instructions for updating:\n",
      "Use tf.cast instead.\n",
      "Train on 7352 samples, validate on 2947 samples\n",
      "Epoch 1/30\n",
      "7352/7352 [==============================] - 31s 4ms/step - loss: 1.3491 - acc: 0.4338 - val_loss: 1.1541 - val_acc: 0.5002\n",
      "Epoch 2/30\n",
      "7352/7352 [==============================] - 29s 4ms/step - loss: 1.0856 - acc: 0.5146 - val_loss: 0.9884 - val_acc: 0.5769\n",
      "Epoch 3/30\n",
      "7352/7352 [==============================] - 29s 4ms/step - loss: 0.8702 - acc: 0.6226 - val_loss: 0.8434 - val_acc: 0.6138\n",
      "Epoch 4/30\n",
      "7352/7352 [==============================] - 30s 4ms/step - loss: 0.7722 - acc: 0.6427 - val_loss: 0.8700 - val_acc: 0.6010\n",
      "Epoch 5/30\n",
      "7352/7352 [==============================] - 29s 4ms/step - loss: 0.7547 - acc: 0.6425 - val_loss: 0.8314 - val_acc: 0.6071\n",
      "Epoch 6/30\n",
      "7352/7352 [==============================] - 29s 4ms/step - loss: 0.6958 - acc: 0.6566 - val_loss: 0.7769 - val_acc: 0.6233\n",
      "Epoch 7/30\n",
      "7352/7352 [==============================] - 29s 4ms/step - loss: 0.6867 - acc: 0.6608 - val_loss: 0.8234 - val_acc: 0.6030\n",
      "Epoch 8/30\n",
      "7352/7352 [==============================] - 29s 4ms/step - loss: 0.6547 - acc: 0.6636 - val_loss: 0.7931 - val_acc: 0.6155\n",
      "Epoch 9/30\n",
      "7352/7352 [==============================] - 29s 4ms/step - loss: 0.6366 - acc: 0.6657 - val_loss: 0.7480 - val_acc: 0.6186\n",
      "Epoch 10/30\n",
      "7352/7352 [==============================] - 30s 4ms/step - loss: 0.6235 - acc: 0.6627 - val_loss: 0.7500 - val_acc: 0.6189\n",
      "Epoch 11/30\n",
      "7352/7352 [==============================] - 30s 4ms/step - loss: 0.6078 - acc: 0.6725 - val_loss: 0.8311 - val_acc: 0.6172\n",
      "Epoch 12/30\n",
      "7352/7352 [==============================] - 30s 4ms/step - loss: 0.6171 - acc: 0.6634 - val_loss: 0.8154 - val_acc: 0.6169\n",
      "Epoch 13/30\n",
      "7352/7352 [==============================] - 30s 4ms/step - loss: 0.6369 - acc: 0.6688 - val_loss: 0.8232 - val_acc: 0.6155\n",
      "Epoch 14/30\n",
      "7352/7352 [==============================] - 30s 4ms/step - loss: 0.6098 - acc: 0.6749 - val_loss: 0.7603 - val_acc: 0.6233\n",
      "Epoch 15/30\n",
      "7352/7352 [==============================] - 29s 4ms/step - loss: 0.6173 - acc: 0.6810 - val_loss: 0.7693 - val_acc: 0.6121\n",
      "Epoch 16/30\n",
      "7352/7352 [==============================] - 29s 4ms/step - loss: 0.6028 - acc: 0.6848 - val_loss: 0.9664 - val_acc: 0.6189\n",
      "Epoch 17/30\n",
      "7352/7352 [==============================] - 29s 4ms/step - loss: 0.5710 - acc: 0.6877 - val_loss: 0.7304 - val_acc: 0.6172\n",
      "Epoch 18/30\n",
      "7352/7352 [==============================] - 29s 4ms/step - loss: 0.5649 - acc: 0.6908 - val_loss: 0.7405 - val_acc: 0.6244\n",
      "Epoch 19/30\n",
      "7352/7352 [==============================] - 29s 4ms/step - loss: 0.5592 - acc: 0.7025 - val_loss: 0.6388 - val_acc: 0.6339\n",
      "Epoch 20/30\n",
      "7352/7352 [==============================] - 29s 4ms/step - loss: 0.5767 - acc: 0.7039 - val_loss: 0.8551 - val_acc: 0.6328\n",
      "Epoch 21/30\n",
      "7352/7352 [==============================] - 29s 4ms/step - loss: 0.5278 - acc: 0.7176 - val_loss: 0.6129 - val_acc: 0.7139\n",
      "Epoch 22/30\n",
      "7352/7352 [==============================] - 29s 4ms/step - loss: 0.5210 - acc: 0.7427 - val_loss: 0.6847 - val_acc: 0.7272\n",
      "Epoch 23/30\n",
      "7352/7352 [==============================] - 29s 4ms/step - loss: 0.5099 - acc: 0.7616 - val_loss: 0.7828 - val_acc: 0.7245\n",
      "Epoch 24/30\n",
      "7352/7352 [==============================] - 29s 4ms/step - loss: 0.4892 - acc: 0.7738 - val_loss: 0.7043 - val_acc: 0.7177\n",
      "Epoch 25/30\n",
      "7352/7352 [==============================] - 29s 4ms/step - loss: 0.4507 - acc: 0.7869 - val_loss: 0.6459 - val_acc: 0.7316\n",
      "Epoch 26/30\n",
      "7352/7352 [==============================] - 29s 4ms/step - loss: 0.5071 - acc: 0.7852 - val_loss: 0.6982 - val_acc: 0.7391\n",
      "Epoch 27/30\n",
      "7352/7352 [==============================] - 29s 4ms/step - loss: 0.4280 - acc: 0.7942 - val_loss: 0.4717 - val_acc: 0.7628\n",
      "Epoch 28/30\n",
      "7352/7352 [==============================] - 29s 4ms/step - loss: 0.4396 - acc: 0.7962 - val_loss: 0.5200 - val_acc: 0.7608\n",
      "Epoch 29/30\n",
      "7352/7352 [==============================] - 29s 4ms/step - loss: 0.3802 - acc: 0.8096 - val_loss: 0.5863 - val_acc: 0.7587\n",
      "Epoch 30/30\n",
      "7352/7352 [==============================] - 29s 4ms/step - loss: 0.4398 - acc: 0.8007 - val_loss: 0.6230 - val_acc: 0.7615\n"
     ]
    },
    {
     "data": {
      "text/plain": [
       "<keras.callbacks.History at 0x7f7ff005d4e0>"
      ]
     },
     "execution_count": 27,
     "metadata": {
      "tags": []
     },
     "output_type": "execute_result"
    }
   ],
   "source": [
    "# Training the model\n",
    "model.fit(X_train,\n",
    "          Y_train,\n",
    "          batch_size=batch_size,\n",
    "          validation_data=(X_test, Y_test),\n",
    "          epochs=epochs)"
   ]
  },
  {
   "cell_type": "code",
   "execution_count": 0,
   "metadata": {
    "colab": {
     "base_uri": "https://localhost:8080/",
     "height": 195
    },
    "colab_type": "code",
    "id": "Acx1PtXPSn87",
    "outputId": "6dd1365a-24ad-4dcb-b151-5343c0f2692a"
   },
   "outputs": [
    {
     "name": "stdout",
     "output_type": "stream",
     "text": [
      "Pred                LAYING  SITTING  ...  WALKING_DOWNSTAIRS  WALKING_UPSTAIRS\n",
      "True                                 ...                                      \n",
      "LAYING                 511        0  ...                   0                 0\n",
      "SITTING                  3      414  ...                   0                 2\n",
      "STANDING                 0      109  ...                   0                 0\n",
      "WALKING                  0        2  ...                   0                46\n",
      "WALKING_DOWNSTAIRS       1        0  ...                   1               406\n",
      "WALKING_UPSTAIRS         0        0  ...                   0               452\n",
      "\n",
      "[6 rows x 6 columns]\n"
     ]
    }
   ],
   "source": [
    "# Confusion Matrix\n",
    "print(confusion_matrix(Y_test, model.predict(X_test)))"
   ]
  },
  {
   "cell_type": "code",
   "execution_count": 0,
   "metadata": {
    "colab": {
     "base_uri": "https://localhost:8080/",
     "height": 35
    },
    "colab_type": "code",
    "id": "iEPQmj5gYGaY",
    "outputId": "5e201204-5c8f-4f27-f9e1-b3342184935b"
   },
   "outputs": [
    {
     "name": "stdout",
     "output_type": "stream",
     "text": [
      "2947/2947 [==============================] - 1s 358us/step\n"
     ]
    }
   ],
   "source": [
    "score = model.evaluate(X_test, Y_test)"
   ]
  },
  {
   "cell_type": "code",
   "execution_count": 0,
   "metadata": {
    "colab": {
     "base_uri": "https://localhost:8080/",
     "height": 35
    },
    "colab_type": "code",
    "id": "TZoncQb3SwRz",
    "outputId": "7b32a80b-0798-412a-a9af-800ab41dbc81"
   },
   "outputs": [
    {
     "data": {
      "text/plain": [
       "[0.6230321966858583, 0.7614523243976926]"
      ]
     },
     "execution_count": 31,
     "metadata": {
      "tags": []
     },
     "output_type": "execute_result"
    }
   ],
   "source": [
    "score"
   ]
  },
  {
   "cell_type": "code",
   "execution_count": 0,
   "metadata": {
    "colab": {
     "base_uri": "https://localhost:8080/",
     "height": 248
    },
    "colab_type": "code",
    "id": "9K4rguM1YPbW",
    "outputId": "cc5b479c-d37d-44c9-f4ae-815db37b9c04"
   },
   "outputs": [
    {
     "name": "stdout",
     "output_type": "stream",
     "text": [
      "_________________________________________________________________\n",
      "Layer (type)                 Output Shape              Param #   \n",
      "=================================================================\n",
      "lstm_5 (LSTM)                (None, 32)                5376      \n",
      "_________________________________________________________________\n",
      "dropout_4 (Dropout)          (None, 32)                0         \n",
      "_________________________________________________________________\n",
      "dense_3 (Dense)              (None, 6)                 198       \n",
      "=================================================================\n",
      "Total params: 5,574\n",
      "Trainable params: 5,574\n",
      "Non-trainable params: 0\n",
      "_________________________________________________________________\n"
     ]
    }
   ],
   "source": [
    "# Initiliazing the sequential model\n",
    "model = Sequential()\n",
    "# Configuring the parameters\n",
    "model.add(LSTM(n_hidden, input_shape=(timesteps, input_dim)))\n",
    "# Adding a dropout layer\n",
    "model.add(Dropout(0.7))\n",
    "# Adding a dense output layer with sigmoid activation\n",
    "model.add(Dense(n_classes, activation='sigmoid'))\n",
    "model.summary()"
   ]
  },
  {
   "cell_type": "code",
   "execution_count": 0,
   "metadata": {
    "colab": {},
    "colab_type": "code",
    "id": "xCxPrldFY3Vv"
   },
   "outputs": [],
   "source": [
    "# Compiling the model\n",
    "model.compile(loss='categorical_crossentropy',\n",
    "              optimizer='rmsprop',\n",
    "              metrics=['accuracy'])"
   ]
  },
  {
   "cell_type": "code",
   "execution_count": 0,
   "metadata": {
    "colab": {
     "base_uri": "https://localhost:8080/",
     "height": 1119
    },
    "colab_type": "code",
    "id": "KftSOmczY5bt",
    "outputId": "db8ea15a-6da8-4a2b-c185-146e299c45bb"
   },
   "outputs": [
    {
     "name": "stdout",
     "output_type": "stream",
     "text": [
      "Train on 7352 samples, validate on 2947 samples\n",
      "Epoch 1/30\n",
      "7352/7352 [==============================] - 30s 4ms/step - loss: 1.4186 - acc: 0.4203 - val_loss: 1.2296 - val_acc: 0.4445\n",
      "Epoch 2/30\n",
      "7352/7352 [==============================] - 29s 4ms/step - loss: 1.1453 - acc: 0.5086 - val_loss: 1.0472 - val_acc: 0.5585\n",
      "Epoch 3/30\n",
      "7352/7352 [==============================] - 29s 4ms/step - loss: 0.9431 - acc: 0.5819 - val_loss: 0.9246 - val_acc: 0.6071\n",
      "Epoch 4/30\n",
      "7352/7352 [==============================] - 29s 4ms/step - loss: 0.8193 - acc: 0.6337 - val_loss: 0.8360 - val_acc: 0.6135\n",
      "Epoch 5/30\n",
      "7352/7352 [==============================] - 29s 4ms/step - loss: 0.7837 - acc: 0.6629 - val_loss: 0.7449 - val_acc: 0.6295\n",
      "Epoch 6/30\n",
      "7352/7352 [==============================] - 29s 4ms/step - loss: 0.7353 - acc: 0.6755 - val_loss: 0.7000 - val_acc: 0.6800\n",
      "Epoch 7/30\n",
      "7352/7352 [==============================] - 29s 4ms/step - loss: 0.7223 - acc: 0.6944 - val_loss: 1.1260 - val_acc: 0.6274\n",
      "Epoch 8/30\n",
      "7352/7352 [==============================] - 29s 4ms/step - loss: 0.6826 - acc: 0.7307 - val_loss: 0.6019 - val_acc: 0.7557\n",
      "Epoch 9/30\n",
      "7352/7352 [==============================] - 29s 4ms/step - loss: 0.6065 - acc: 0.7537 - val_loss: 0.6515 - val_acc: 0.7642\n",
      "Epoch 10/30\n",
      "7352/7352 [==============================] - 29s 4ms/step - loss: 0.5573 - acc: 0.7741 - val_loss: 0.5394 - val_acc: 0.7618\n",
      "Epoch 11/30\n",
      "7352/7352 [==============================] - 29s 4ms/step - loss: 0.5498 - acc: 0.7773 - val_loss: 0.5184 - val_acc: 0.7808\n",
      "Epoch 12/30\n",
      "7352/7352 [==============================] - 29s 4ms/step - loss: 0.5536 - acc: 0.7852 - val_loss: 0.5518 - val_acc: 0.7764\n",
      "Epoch 13/30\n",
      "7352/7352 [==============================] - 29s 4ms/step - loss: 0.5185 - acc: 0.7911 - val_loss: 0.9354 - val_acc: 0.7234\n",
      "Epoch 14/30\n",
      "7352/7352 [==============================] - 29s 4ms/step - loss: 0.5150 - acc: 0.8013 - val_loss: 0.5532 - val_acc: 0.7815\n",
      "Epoch 15/30\n",
      "7352/7352 [==============================] - 29s 4ms/step - loss: 0.4990 - acc: 0.8254 - val_loss: 0.7493 - val_acc: 0.8208\n",
      "Epoch 16/30\n",
      "7352/7352 [==============================] - 30s 4ms/step - loss: 0.4764 - acc: 0.8502 - val_loss: 0.4644 - val_acc: 0.8592\n",
      "Epoch 17/30\n",
      "7352/7352 [==============================] - 29s 4ms/step - loss: 0.3730 - acc: 0.8860 - val_loss: 0.4234 - val_acc: 0.8561\n",
      "Epoch 18/30\n",
      "7352/7352 [==============================] - 30s 4ms/step - loss: 0.3641 - acc: 0.8919 - val_loss: 0.4710 - val_acc: 0.8602\n",
      "Epoch 19/30\n",
      "7352/7352 [==============================] - 29s 4ms/step - loss: 0.3517 - acc: 0.8979 - val_loss: 0.4284 - val_acc: 0.8707\n",
      "Epoch 20/30\n",
      "7352/7352 [==============================] - 29s 4ms/step - loss: 0.3082 - acc: 0.9085 - val_loss: 0.4017 - val_acc: 0.8639\n",
      "Epoch 21/30\n",
      "7352/7352 [==============================] - 29s 4ms/step - loss: 0.2928 - acc: 0.9168 - val_loss: 0.3905 - val_acc: 0.8867\n",
      "Epoch 22/30\n",
      "7352/7352 [==============================] - 29s 4ms/step - loss: 0.2871 - acc: 0.9173 - val_loss: 0.4919 - val_acc: 0.8354\n",
      "Epoch 23/30\n",
      "7352/7352 [==============================] - 29s 4ms/step - loss: 0.2658 - acc: 0.9237 - val_loss: 0.5179 - val_acc: 0.8724\n",
      "Epoch 24/30\n",
      "7352/7352 [==============================] - 29s 4ms/step - loss: 0.2440 - acc: 0.9221 - val_loss: 0.6447 - val_acc: 0.8707\n",
      "Epoch 25/30\n",
      "7352/7352 [==============================] - 28s 4ms/step - loss: 0.2779 - acc: 0.9245 - val_loss: 0.6128 - val_acc: 0.8809\n",
      "Epoch 26/30\n",
      "7352/7352 [==============================] - 29s 4ms/step - loss: 0.2788 - acc: 0.9248 - val_loss: 0.6111 - val_acc: 0.8639\n",
      "Epoch 27/30\n",
      "7352/7352 [==============================] - 29s 4ms/step - loss: 0.2343 - acc: 0.9316 - val_loss: 0.5758 - val_acc: 0.8463\n",
      "Epoch 28/30\n",
      "7352/7352 [==============================] - 29s 4ms/step - loss: nan - acc: 0.4094 - val_loss: nan - val_acc: 0.1683\n",
      "Epoch 29/30\n",
      "7352/7352 [==============================] - 29s 4ms/step - loss: nan - acc: 0.1668 - val_loss: nan - val_acc: 0.1683\n",
      "Epoch 30/30\n",
      "7352/7352 [==============================] - 29s 4ms/step - loss: nan - acc: 0.1668 - val_loss: nan - val_acc: 0.1683\n"
     ]
    },
    {
     "data": {
      "text/plain": [
       "<keras.callbacks.History at 0x7f7feeb10c88>"
      ]
     },
     "execution_count": 34,
     "metadata": {
      "tags": []
     },
     "output_type": "execute_result"
    }
   ],
   "source": [
    "# Training the model\n",
    "model.fit(X_train,\n",
    "          Y_train,\n",
    "          batch_size=batch_size,\n",
    "          validation_data=(X_test, Y_test),\n",
    "          epochs=epochs)"
   ]
  },
  {
   "cell_type": "code",
   "execution_count": 0,
   "metadata": {
    "colab": {
     "base_uri": "https://localhost:8080/",
     "height": 159
    },
    "colab_type": "code",
    "id": "0_kPfwRqY-Kv",
    "outputId": "dd01933c-9b5b-43ad-a430-4fc0d2e11062"
   },
   "outputs": [
    {
     "name": "stdout",
     "output_type": "stream",
     "text": [
      "Pred                WALKING\n",
      "True                       \n",
      "LAYING                  537\n",
      "SITTING                 491\n",
      "STANDING                532\n",
      "WALKING                 496\n",
      "WALKING_DOWNSTAIRS      420\n",
      "WALKING_UPSTAIRS        471\n"
     ]
    }
   ],
   "source": [
    "# Confusion Matrix\n",
    "print(confusion_matrix(Y_test, model.predict(X_test)))"
   ]
  },
  {
   "cell_type": "code",
   "execution_count": 0,
   "metadata": {
    "colab": {
     "base_uri": "https://localhost:8080/",
     "height": 35
    },
    "colab_type": "code",
    "id": "rAvnN4gSZaxj",
    "outputId": "27267c4d-bc70-4446-8ef8-7fc278e21f88"
   },
   "outputs": [
    {
     "name": "stdout",
     "output_type": "stream",
     "text": [
      "2947/2947 [==============================] - 1s 366us/step\n"
     ]
    }
   ],
   "source": [
    "score = model.evaluate(X_test, Y_test)"
   ]
  },
  {
   "cell_type": "code",
   "execution_count": 0,
   "metadata": {
    "colab": {
     "base_uri": "https://localhost:8080/",
     "height": 35
    },
    "colab_type": "code",
    "id": "GpVJ2U5OZeI8",
    "outputId": "108611a8-3c95-4aa4-edb6-7de94c62ca84"
   },
   "outputs": [
    {
     "data": {
      "text/plain": [
       "[nan, 0.168306752629793]"
      ]
     },
     "execution_count": 39,
     "metadata": {
      "tags": []
     },
     "output_type": "execute_result"
    }
   ],
   "source": [
    "score"
   ]
  },
  {
   "cell_type": "code",
   "execution_count": 0,
   "metadata": {
    "colab": {
     "base_uri": "https://localhost:8080/",
     "height": 410
    },
    "colab_type": "code",
    "id": "_u1My2NGZf21",
    "outputId": "5f18ccb3-bd35-42c8-ccba-15f521dc2295"
   },
   "outputs": [
    {
     "name": "stdout",
     "output_type": "stream",
     "text": [
      "WARNING:tensorflow:From /usr/local/lib/python3.6/dist-packages/tensorflow/python/framework/op_def_library.py:263: colocate_with (from tensorflow.python.framework.ops) is deprecated and will be removed in a future version.\n",
      "Instructions for updating:\n",
      "Colocations handled automatically by placer.\n",
      "WARNING:tensorflow:From /usr/local/lib/python3.6/dist-packages/keras/backend/tensorflow_backend.py:3445: calling dropout (from tensorflow.python.ops.nn_ops) with keep_prob is deprecated and will be removed in a future version.\n",
      "Instructions for updating:\n",
      "Please use `rate` instead of `keep_prob`. Rate should be set to `rate = 1 - keep_prob`.\n",
      "_________________________________________________________________\n",
      "Layer (type)                 Output Shape              Param #   \n",
      "=================================================================\n",
      "lstm_1 (LSTM)                (None, 128, 32)           5376      \n",
      "_________________________________________________________________\n",
      "dropout_1 (Dropout)          (None, 128, 32)           0         \n",
      "_________________________________________________________________\n",
      "lstm_2 (LSTM)                (None, 32)                8320      \n",
      "_________________________________________________________________\n",
      "dense_1 (Dense)              (None, 6)                 198       \n",
      "=================================================================\n",
      "Total params: 13,894\n",
      "Trainable params: 13,894\n",
      "Non-trainable params: 0\n",
      "_________________________________________________________________\n"
     ]
    }
   ],
   "source": [
    "#model.add(LSTM(100,return_sequences=True))\n",
    "#model.add(LSTM(100))\n",
    "# Initiliazing the sequential model\n",
    "model = Sequential()\n",
    "# Configuring the parameters\n",
    "model.add(LSTM(n_hidden, input_shape=(timesteps,input_dim),return_sequences=True))\n",
    "# Adding a dropout layer\n",
    "model.add(Dropout(0.6))\n",
    "model.add(LSTM(n_hidden))\n",
    "# Adding a dense output layer with sigmoid activation\n",
    "model.add(Dense(n_classes, activation='sigmoid'))\n",
    "model.summary()"
   ]
  },
  {
   "cell_type": "code",
   "execution_count": 0,
   "metadata": {
    "colab": {},
    "colab_type": "code",
    "id": "UTka3PB1d1QK"
   },
   "outputs": [],
   "source": [
    "# Compiling the model\n",
    "model.compile(loss='categorical_crossentropy',\n",
    "              optimizer='rmsprop',\n",
    "              metrics=['accuracy'])"
   ]
  },
  {
   "cell_type": "code",
   "execution_count": 0,
   "metadata": {
    "colab": {
     "base_uri": "https://localhost:8080/",
     "height": 1175
    },
    "colab_type": "code",
    "id": "LxwkoeMJecBT",
    "outputId": "8260fc8f-cadf-484c-cd32-9cfa84245886"
   },
   "outputs": [
    {
     "name": "stdout",
     "output_type": "stream",
     "text": [
      "WARNING:tensorflow:From /usr/local/lib/python3.6/dist-packages/tensorflow/python/ops/math_ops.py:3066: to_int32 (from tensorflow.python.ops.math_ops) is deprecated and will be removed in a future version.\n",
      "Instructions for updating:\n",
      "Use tf.cast instead.\n",
      "Train on 7352 samples, validate on 2947 samples\n",
      "Epoch 1/30\n",
      "7352/7352 [==============================] - 182s 25ms/step - loss: 1.0818 - acc: 0.5211 - val_loss: 0.8798 - val_acc: 0.5860\n",
      "Epoch 2/30\n",
      "7352/7352 [==============================] - 180s 24ms/step - loss: 0.7561 - acc: 0.6289 - val_loss: 0.7403 - val_acc: 0.6970\n",
      "Epoch 3/30\n",
      "7352/7352 [==============================] - 176s 24ms/step - loss: 0.5837 - acc: 0.7569 - val_loss: 0.5792 - val_acc: 0.7384\n",
      "Epoch 4/30\n",
      "7352/7352 [==============================] - 176s 24ms/step - loss: 0.4630 - acc: 0.8096 - val_loss: 0.4445 - val_acc: 0.8541\n",
      "Epoch 5/30\n",
      "7352/7352 [==============================] - 174s 24ms/step - loss: 0.3371 - acc: 0.8810 - val_loss: 0.6808 - val_acc: 0.7682\n",
      "Epoch 6/30\n",
      "7352/7352 [==============================] - 174s 24ms/step - loss: 0.2463 - acc: 0.9124 - val_loss: 0.4473 - val_acc: 0.8707\n",
      "Epoch 7/30\n",
      "7352/7352 [==============================] - 174s 24ms/step - loss: 0.2261 - acc: 0.9244 - val_loss: 0.3388 - val_acc: 0.8941\n",
      "Epoch 8/30\n",
      "7352/7352 [==============================] - 174s 24ms/step - loss: 0.1791 - acc: 0.9368 - val_loss: 0.3183 - val_acc: 0.8962\n",
      "Epoch 9/30\n",
      "7352/7352 [==============================] - 175s 24ms/step - loss: 0.1746 - acc: 0.9368 - val_loss: 0.3232 - val_acc: 0.8965\n",
      "Epoch 10/30\n",
      "7352/7352 [==============================] - 175s 24ms/step - loss: 0.1598 - acc: 0.9393 - val_loss: 0.3386 - val_acc: 0.9009\n",
      "Epoch 11/30\n",
      "7352/7352 [==============================] - 174s 24ms/step - loss: 0.1553 - acc: 0.9411 - val_loss: 0.3319 - val_acc: 0.9002\n",
      "Epoch 12/30\n",
      "7352/7352 [==============================] - 175s 24ms/step - loss: 0.1541 - acc: 0.9444 - val_loss: 0.3099 - val_acc: 0.9135\n",
      "Epoch 13/30\n",
      "7352/7352 [==============================] - 175s 24ms/step - loss: 0.1347 - acc: 0.9455 - val_loss: 0.3450 - val_acc: 0.9057\n",
      "Epoch 14/30\n",
      "7352/7352 [==============================] - 173s 24ms/step - loss: 0.1349 - acc: 0.9495 - val_loss: 0.3608 - val_acc: 0.9057\n",
      "Epoch 15/30\n",
      "7352/7352 [==============================] - 172s 23ms/step - loss: 0.1373 - acc: 0.9476 - val_loss: 0.4059 - val_acc: 0.8850\n",
      "Epoch 16/30\n",
      "7352/7352 [==============================] - 172s 23ms/step - loss: 0.1300 - acc: 0.9459 - val_loss: 0.3500 - val_acc: 0.9121\n",
      "Epoch 17/30\n",
      "7352/7352 [==============================] - 173s 24ms/step - loss: 0.1371 - acc: 0.9468 - val_loss: 0.3830 - val_acc: 0.9077\n",
      "Epoch 18/30\n",
      "7352/7352 [==============================] - 173s 23ms/step - loss: 0.1311 - acc: 0.9532 - val_loss: 0.3859 - val_acc: 0.9013\n",
      "Epoch 19/30\n",
      "7352/7352 [==============================] - 171s 23ms/step - loss: 0.1296 - acc: 0.9499 - val_loss: 0.4111 - val_acc: 0.8975\n",
      "Epoch 20/30\n",
      "7352/7352 [==============================] - 171s 23ms/step - loss: 0.1305 - acc: 0.9520 - val_loss: 0.4078 - val_acc: 0.9002\n",
      "Epoch 21/30\n",
      "7352/7352 [==============================] - 171s 23ms/step - loss: 0.1231 - acc: 0.9524 - val_loss: 0.3581 - val_acc: 0.9036\n",
      "Epoch 22/30\n",
      "7352/7352 [==============================] - 171s 23ms/step - loss: 0.1191 - acc: 0.9505 - val_loss: 0.3560 - val_acc: 0.9067\n",
      "Epoch 23/30\n",
      "7352/7352 [==============================] - 171s 23ms/step - loss: 0.1249 - acc: 0.9529 - val_loss: 0.3663 - val_acc: 0.8996\n",
      "Epoch 24/30\n",
      "7352/7352 [==============================] - 173s 23ms/step - loss: 0.1143 - acc: 0.9538 - val_loss: 0.3898 - val_acc: 0.9057\n",
      "Epoch 25/30\n",
      "7352/7352 [==============================] - 176s 24ms/step - loss: 0.1247 - acc: 0.9538 - val_loss: 0.4357 - val_acc: 0.9033\n",
      "Epoch 26/30\n",
      "7352/7352 [==============================] - 179s 24ms/step - loss: 0.1325 - acc: 0.9510 - val_loss: 0.3667 - val_acc: 0.9040\n",
      "Epoch 27/30\n",
      "7352/7352 [==============================] - 176s 24ms/step - loss: 0.1280 - acc: 0.9495 - val_loss: 0.3672 - val_acc: 0.9026\n",
      "Epoch 28/30\n",
      "7352/7352 [==============================] - 176s 24ms/step - loss: 0.1273 - acc: 0.9536 - val_loss: 0.3238 - val_acc: 0.9040\n",
      "Epoch 29/30\n",
      "7352/7352 [==============================] - 176s 24ms/step - loss: 0.1209 - acc: 0.9539 - val_loss: 0.4136 - val_acc: 0.8992\n",
      "Epoch 30/30\n",
      "7352/7352 [==============================] - 176s 24ms/step - loss: 0.1156 - acc: 0.9543 - val_loss: 0.3535 - val_acc: 0.9040\n"
     ]
    }
   ],
   "source": [
    "# Training the model\n",
    "history=model.fit(X_train,\n",
    "          Y_train,\n",
    "          batch_size=batch_size,\n",
    "          validation_data=(X_test, Y_test),\n",
    "          epochs=epochs)"
   ]
  },
  {
   "cell_type": "code",
   "execution_count": 0,
   "metadata": {
    "colab": {},
    "colab_type": "code",
    "id": "CfhBltJxzerF"
   },
   "outputs": [],
   "source": [
    "def plt_dynamic(x, vy, ty, ax, colors=['b']):    \n",
    "  ax.plot(x, vy, 'b', label=\"Validation Loss\")    \n",
    "  ax.plot(x, ty, 'r', label=\"Train Loss\")    \n",
    "  plt.legend()    \n",
    "  plt.grid()    \n",
    "  fig.canvas.draw()"
   ]
  },
  {
   "cell_type": "code",
   "execution_count": 0,
   "metadata": {
    "colab": {
     "base_uri": "https://localhost:8080/",
     "height": 35
    },
    "colab_type": "code",
    "id": "M9RJ6ifSzsFr",
    "outputId": "9b75c78c-214b-47bb-8ed8-014ca32a88fb"
   },
   "outputs": [
    {
     "name": "stdout",
     "output_type": "stream",
     "text": [
      "2947/2947 [==============================] - 12s 4ms/step\n"
     ]
    }
   ],
   "source": [
    "scores = model.evaluate(X_test, Y_test)"
   ]
  },
  {
   "cell_type": "code",
   "execution_count": 0,
   "metadata": {
    "colab": {
     "base_uri": "https://localhost:8080/",
     "height": 318
    },
    "colab_type": "code",
    "id": "DCED3DIDefyG",
    "outputId": "611eb276-906d-4e4e-a439-8a143ca2617b"
   },
   "outputs": [
    {
     "name": "stdout",
     "output_type": "stream",
     "text": [
      "Test score: 0.3534240820158526\n",
      "Test accuracy: 0.9039701391245334\n"
     ]
    },
    {
     "data": {
      "image/png": "[encoded data removed]",
      "text/plain": [
       "<Figure size 432x288 with 1 Axes>"
      ]
     },
     "metadata": {
      "tags": []
     },
     "output_type": "display_data"
    }
   ],
   "source": [
    "import matplotlib.pyplot as plt\n",
    "%matplotlib inline\n",
    "print('Test score:', scores[0]) \n",
    "print('Test accuracy:', scores[1])\n",
    " \n",
    "fig,ax = plt.subplots(1,1) \n",
    "ax.set_xlabel('epoch') \n",
    "ax.set_ylabel('Categorical Crossentropy Loss')\n",
    " \n",
    "# list of epoch numbers \n",
    "x = list(range(1,epochs+1))\n",
    "\n",
    "vy = history.history['val_loss'] \n",
    "ty = history.history['loss'] \n",
    "plt_dynamic(x, vy, ty, ax)\n",
    " "
   ]
  },
  {
   "cell_type": "code",
   "execution_count": 0,
   "metadata": {
    "colab": {
     "base_uri": "https://localhost:8080/",
     "height": 284
    },
    "colab_type": "code",
    "id": "Tl46wJsOzmZ7",
    "outputId": "96b7b7ec-ac97-4eef-a628-efc4c5eb1527"
   },
   "outputs": [
    {
     "name": "stdout",
     "output_type": "stream",
     "text": [
      "_________________________________________________________________\n",
      "Layer (type)                 Output Shape              Param #   \n",
      "=================================================================\n",
      "lstm_5 (LSTM)                (None, 128, 32)           5376      \n",
      "_________________________________________________________________\n",
      "dropout_3 (Dropout)          (None, 128, 32)           0         \n",
      "_________________________________________________________________\n",
      "lstm_6 (LSTM)                (None, 32)                8320      \n",
      "_________________________________________________________________\n",
      "dense_3 (Dense)              (None, 6)                 198       \n",
      "=================================================================\n",
      "Total params: 13,894\n",
      "Trainable params: 13,894\n",
      "Non-trainable params: 0\n",
      "_________________________________________________________________\n"
     ]
    }
   ],
   "source": [
    "model = Sequential()\n",
    "# Configuring the parameters\n",
    "model.add(LSTM(n_hidden, input_shape=(timesteps,input_dim),return_sequences=True))\n",
    "# Adding a dropout layer\n",
    "model.add(Dropout(0.3))\n",
    "model.add(LSTM(n_hidden))\n",
    "# Adding a dense output layer with sigmoid activation\n",
    "model.add(Dense(n_classes, activation='sigmoid'))\n",
    "model.summary()"
   ]
  },
  {
   "cell_type": "code",
   "execution_count": 0,
   "metadata": {
    "colab": {},
    "colab_type": "code",
    "id": "DmTvehRB1lXv"
   },
   "outputs": [],
   "source": [
    "# Compiling the model\n",
    "model.compile(loss='categorical_crossentropy',\n",
    "              optimizer='rmsprop',\n",
    "              metrics=['accuracy'])\n"
   ]
  },
  {
   "cell_type": "code",
   "execution_count": 0,
   "metadata": {
    "colab": {
     "base_uri": "https://localhost:8080/",
     "height": 1121
    },
    "colab_type": "code",
    "id": "qDKjIrdv1tXN",
    "outputId": "831bbf8c-27af-45d2-df85-17a7e6d8c1fc"
   },
   "outputs": [
    {
     "name": "stdout",
     "output_type": "stream",
     "text": [
      "Train on 7352 samples, validate on 2947 samples\n",
      "Epoch 1/30\n",
      "7352/7352 [==============================] - 183s 25ms/step - loss: 1.1244 - acc: 0.5229 - val_loss: 0.9435 - val_acc: 0.5450\n",
      "Epoch 2/30\n",
      "7352/7352 [==============================] - 181s 25ms/step - loss: 0.7570 - acc: 0.6593 - val_loss: 0.8215 - val_acc: 0.6474\n",
      "Epoch 3/30\n",
      "7352/7352 [==============================] - 180s 25ms/step - loss: 0.5956 - acc: 0.7686 - val_loss: 0.6380 - val_acc: 0.7584\n",
      "Epoch 4/30\n",
      "7352/7352 [==============================] - 179s 24ms/step - loss: 0.4408 - acc: 0.8466 - val_loss: 0.5612 - val_acc: 0.8269\n",
      "Epoch 5/30\n",
      "7352/7352 [==============================] - 178s 24ms/step - loss: 0.2843 - acc: 0.9091 - val_loss: 0.4249 - val_acc: 0.8504\n",
      "Epoch 6/30\n",
      "7352/7352 [==============================] - 180s 24ms/step - loss: 0.2220 - acc: 0.9196 - val_loss: 0.4452 - val_acc: 0.8629\n",
      "Epoch 7/30\n",
      "7352/7352 [==============================] - 179s 24ms/step - loss: 0.2088 - acc: 0.9293 - val_loss: 0.4330 - val_acc: 0.8758\n",
      "Epoch 8/30\n",
      "7352/7352 [==============================] - 180s 24ms/step - loss: 0.1793 - acc: 0.9332 - val_loss: 0.4969 - val_acc: 0.8789\n",
      "Epoch 9/30\n",
      "7352/7352 [==============================] - 179s 24ms/step - loss: 0.1592 - acc: 0.9410 - val_loss: 0.3970 - val_acc: 0.8812\n",
      "Epoch 10/30\n",
      "7352/7352 [==============================] - 178s 24ms/step - loss: 0.1446 - acc: 0.9446 - val_loss: 0.3673 - val_acc: 0.8951\n",
      "Epoch 11/30\n",
      "7352/7352 [==============================] - 177s 24ms/step - loss: 0.1449 - acc: 0.9418 - val_loss: 0.3954 - val_acc: 0.8901\n",
      "Epoch 12/30\n",
      "7352/7352 [==============================] - 177s 24ms/step - loss: 0.1298 - acc: 0.9504 - val_loss: 0.3920 - val_acc: 0.8985\n",
      "Epoch 13/30\n",
      "7352/7352 [==============================] - 179s 24ms/step - loss: 0.1269 - acc: 0.9468 - val_loss: 0.3225 - val_acc: 0.9080\n",
      "Epoch 14/30\n",
      "7352/7352 [==============================] - 178s 24ms/step - loss: 0.1282 - acc: 0.9504 - val_loss: 0.6524 - val_acc: 0.8646\n",
      "Epoch 15/30\n",
      "7352/7352 [==============================] - 179s 24ms/step - loss: 0.1233 - acc: 0.9506 - val_loss: 0.3349 - val_acc: 0.9094\n",
      "Epoch 16/30\n",
      "7352/7352 [==============================] - 180s 25ms/step - loss: 0.1299 - acc: 0.9495 - val_loss: 0.2761 - val_acc: 0.9141\n",
      "Epoch 17/30\n",
      "7352/7352 [==============================] - 178s 24ms/step - loss: 0.1228 - acc: 0.9517 - val_loss: 0.3126 - val_acc: 0.9118\n",
      "Epoch 18/30\n",
      "7352/7352 [==============================] - 177s 24ms/step - loss: 0.1244 - acc: 0.9516 - val_loss: 0.4999 - val_acc: 0.8975\n",
      "Epoch 19/30\n",
      "7352/7352 [==============================] - 178s 24ms/step - loss: 0.1230 - acc: 0.9533 - val_loss: 0.4248 - val_acc: 0.8989\n",
      "Epoch 20/30\n",
      "7352/7352 [==============================] - 179s 24ms/step - loss: 0.1227 - acc: 0.9512 - val_loss: 0.4417 - val_acc: 0.9036\n",
      "Epoch 21/30\n",
      "7352/7352 [==============================] - 179s 24ms/step - loss: 0.1192 - acc: 0.9472 - val_loss: 0.4978 - val_acc: 0.8979\n",
      "Epoch 22/30\n",
      "7352/7352 [==============================] - 178s 24ms/step - loss: 0.1229 - acc: 0.9518 - val_loss: 0.4945 - val_acc: 0.8982\n",
      "Epoch 23/30\n",
      "7352/7352 [==============================] - 177s 24ms/step - loss: 0.1112 - acc: 0.9540 - val_loss: 0.5132 - val_acc: 0.9070\n",
      "Epoch 24/30\n",
      "7352/7352 [==============================] - 176s 24ms/step - loss: 0.1184 - acc: 0.9543 - val_loss: 0.4730 - val_acc: 0.8996\n",
      "Epoch 25/30\n",
      "7352/7352 [==============================] - 178s 24ms/step - loss: 0.1121 - acc: 0.9548 - val_loss: 0.4919 - val_acc: 0.8992\n",
      "Epoch 26/30\n",
      "7352/7352 [==============================] - 177s 24ms/step - loss: 0.1211 - acc: 0.9548 - val_loss: 0.4493 - val_acc: 0.9091\n",
      "Epoch 27/30\n",
      "7352/7352 [==============================] - 177s 24ms/step - loss: 0.1132 - acc: 0.9536 - val_loss: 0.4120 - val_acc: 0.9148\n",
      "Epoch 28/30\n",
      "7352/7352 [==============================] - 177s 24ms/step - loss: 0.1131 - acc: 0.9529 - val_loss: 0.5487 - val_acc: 0.9030\n",
      "Epoch 29/30\n",
      "7352/7352 [==============================] - 177s 24ms/step - loss: 0.1199 - acc: 0.9528 - val_loss: 0.4583 - val_acc: 0.9026\n",
      "Epoch 30/30\n",
      "7352/7352 [==============================] - 180s 24ms/step - loss: 0.1200 - acc: 0.9536 - val_loss: 0.3390 - val_acc: 0.9097\n"
     ]
    }
   ],
   "source": [
    "# Training the model\n",
    "history=model.fit(X_train,\n",
    "          Y_train,\n",
    "          batch_size=batch_size,\n",
    "          validation_data=(X_test, Y_test),\n",
    "          epochs=epochs)"
   ]
  },
  {
   "cell_type": "code",
   "execution_count": 0,
   "metadata": {
    "colab": {
     "base_uri": "https://localhost:8080/",
     "height": 35
    },
    "colab_type": "code",
    "id": "CB5Joey013hX",
    "outputId": "0fddfdb6-5840-4c5e-deca-055aad6785be"
   },
   "outputs": [
    {
     "name": "stdout",
     "output_type": "stream",
     "text": [
      "2947/2947 [==============================] - 12s 4ms/step\n"
     ]
    }
   ],
   "source": [
    "scores = model.evaluate(X_test, Y_test)"
   ]
  },
  {
   "cell_type": "code",
   "execution_count": 0,
   "metadata": {
    "colab": {
     "base_uri": "https://localhost:8080/",
     "height": 318
    },
    "colab_type": "code",
    "id": "pM5W7Cqs6lrK",
    "outputId": "7f0b1c4c-4de4-42af-e139-344b7f61870a"
   },
   "outputs": [
    {
     "name": "stdout",
     "output_type": "stream",
     "text": [
      "Test score: 0.3389693645115511\n",
      "Test accuracy: 0.9097387173396675\n"
     ]
    },
    {
     "data": {
      "image/png": "[encoded data removed]",
      "text/plain": [
       "<Figure size 432x288 with 1 Axes>"
      ]
     },
     "metadata": {
      "tags": []
     },
     "output_type": "display_data"
    }
   ],
   "source": [
    "print('Test score:', scores[0]) \n",
    "print('Test accuracy:', scores[1])\n",
    " \n",
    "fig,ax = plt.subplots(1,1) \n",
    "ax.set_xlabel('epoch') \n",
    "ax.set_ylabel('Categorical Crossentropy Loss')\n",
    " \n",
    "# list of epoch numbers \n",
    "x = list(range(1,epochs+1))\n",
    "\n",
    "vy = history.history['val_loss'] \n",
    "ty = history.history['loss'] \n",
    "plt_dynamic(x, vy, ty, ax)"
   ]
  },
  {
   "cell_type": "code",
   "execution_count": 21,
   "metadata": {
    "colab": {
     "base_uri": "https://localhost:8080/",
     "height": 410
    },
    "colab_type": "code",
    "id": "EMv4PUm2Rvc9",
    "outputId": "f47242b8-ddfc-4e4b-fb34-491e122c5169"
   },
   "outputs": [
    {
     "name": "stdout",
     "output_type": "stream",
     "text": [
      "WARNING:tensorflow:From /usr/local/lib/python3.6/dist-packages/tensorflow/python/framework/op_def_library.py:263: colocate_with (from tensorflow.python.framework.ops) is deprecated and will be removed in a future version.\n",
      "Instructions for updating:\n",
      "Colocations handled automatically by placer.\n",
      "WARNING:tensorflow:From /usr/local/lib/python3.6/dist-packages/keras/backend/tensorflow_backend.py:3445: calling dropout (from tensorflow.python.ops.nn_ops) with keep_prob is deprecated and will be removed in a future version.\n",
      "Instructions for updating:\n",
      "Please use `rate` instead of `keep_prob`. Rate should be set to `rate = 1 - keep_prob`.\n",
      "_________________________________________________________________\n",
      "Layer (type)                 Output Shape              Param #   \n",
      "=================================================================\n",
      "lstm_1 (LSTM)                (None, 128, 100)          44000     \n",
      "_________________________________________________________________\n",
      "dropout_1 (Dropout)          (None, 128, 100)          0         \n",
      "_________________________________________________________________\n",
      "lstm_2 (LSTM)                (None, 100)               80400     \n",
      "_________________________________________________________________\n",
      "dense_1 (Dense)              (None, 6)                 606       \n",
      "=================================================================\n",
      "Total params: 125,006\n",
      "Trainable params: 125,006\n",
      "Non-trainable params: 0\n",
      "_________________________________________________________________\n"
     ]
    }
   ],
   "source": [
    "model = Sequential()\n",
    "# Configuring the parameters\n",
    "model.add(LSTM(100, input_shape=(timesteps,input_dim),return_sequences=True))\n",
    "# Adding a dropout layer\n",
    "model.add(Dropout(0.5))\n",
    "model.add(LSTM(100))\n",
    "# Adding a dense output layer with sigmoid activation\n",
    "model.add(Dense(n_classes, activation='sigmoid'))\n",
    "model.summary()"
   ]
  },
  {
   "cell_type": "code",
   "execution_count": 0,
   "metadata": {
    "colab": {},
    "colab_type": "code",
    "id": "Xu_jYPem8bV4"
   },
   "outputs": [],
   "source": [
    "# Compiling the model\n",
    "model.compile(loss='categorical_crossentropy',\n",
    "              optimizer='rmsprop',\n",
    "              metrics=['accuracy'])\n",
    "\n"
   ]
  },
  {
   "cell_type": "code",
   "execution_count": 24,
   "metadata": {
    "colab": {
     "base_uri": "https://localhost:8080/",
     "height": 1175
    },
    "colab_type": "code",
    "id": "UksDJrp48kNR",
    "outputId": "f3413ccb-4571-4471-95da-669b98ee72e3"
   },
   "outputs": [
    {
     "name": "stdout",
     "output_type": "stream",
     "text": [
      "WARNING:tensorflow:From /usr/local/lib/python3.6/dist-packages/tensorflow/python/ops/math_ops.py:3066: to_int32 (from tensorflow.python.ops.math_ops) is deprecated and will be removed in a future version.\n",
      "Instructions for updating:\n",
      "Use tf.cast instead.\n",
      "Train on 7352 samples, validate on 2947 samples\n",
      "Epoch 1/30\n",
      "7352/7352 [==============================] - 209s 28ms/step - loss: 0.9667 - acc: 0.5728 - val_loss: 0.9075 - val_acc: 0.6586\n",
      "Epoch 2/30\n",
      "7352/7352 [==============================] - 209s 28ms/step - loss: 0.5960 - acc: 0.7550 - val_loss: 0.6768 - val_acc: 0.7615\n",
      "Epoch 3/30\n",
      "7352/7352 [==============================] - 207s 28ms/step - loss: 0.3538 - acc: 0.8708 - val_loss: 0.3868 - val_acc: 0.8755\n",
      "Epoch 4/30\n",
      "7352/7352 [==============================] - 213s 29ms/step - loss: 0.2133 - acc: 0.9248 - val_loss: 0.4598 - val_acc: 0.8806\n",
      "Epoch 5/30\n",
      "7352/7352 [==============================] - 213s 29ms/step - loss: 0.1589 - acc: 0.9395 - val_loss: 0.3980 - val_acc: 0.8809\n",
      "Epoch 6/30\n",
      "7352/7352 [==============================] - 211s 29ms/step - loss: 0.1601 - acc: 0.9397 - val_loss: 0.3313 - val_acc: 0.9006\n",
      "Epoch 7/30\n",
      "7352/7352 [==============================] - 212s 29ms/step - loss: 0.1688 - acc: 0.9404 - val_loss: 0.3624 - val_acc: 0.8989\n",
      "Epoch 8/30\n",
      "7352/7352 [==============================] - 211s 29ms/step - loss: 0.1506 - acc: 0.9440 - val_loss: 0.3979 - val_acc: 0.8965\n",
      "Epoch 9/30\n",
      "7352/7352 [==============================] - 211s 29ms/step - loss: 0.1374 - acc: 0.9482 - val_loss: 0.3362 - val_acc: 0.9043\n",
      "Epoch 10/30\n",
      "7352/7352 [==============================] - 212s 29ms/step - loss: 0.1371 - acc: 0.9489 - val_loss: 0.3170 - val_acc: 0.9084\n",
      "Epoch 11/30\n",
      "7352/7352 [==============================] - 213s 29ms/step - loss: 0.1276 - acc: 0.9514 - val_loss: 0.2585 - val_acc: 0.9148\n",
      "Epoch 12/30\n",
      "7352/7352 [==============================] - 212s 29ms/step - loss: 0.1329 - acc: 0.9508 - val_loss: 0.2507 - val_acc: 0.9223\n",
      "Epoch 13/30\n",
      "7352/7352 [==============================] - 210s 29ms/step - loss: 0.1239 - acc: 0.9529 - val_loss: 0.2472 - val_acc: 0.9203\n",
      "Epoch 14/30\n",
      "7352/7352 [==============================] - 212s 29ms/step - loss: 0.1192 - acc: 0.9510 - val_loss: 0.2844 - val_acc: 0.9094\n",
      "Epoch 15/30\n",
      "7352/7352 [==============================] - 211s 29ms/step - loss: 0.1177 - acc: 0.9533 - val_loss: 0.5583 - val_acc: 0.8755\n",
      "Epoch 16/30\n",
      "7352/7352 [==============================] - 210s 29ms/step - loss: 0.1274 - acc: 0.9509 - val_loss: 0.4218 - val_acc: 0.9138\n",
      "Epoch 17/30\n",
      "7352/7352 [==============================] - 210s 29ms/step - loss: 0.1264 - acc: 0.9521 - val_loss: 0.3238 - val_acc: 0.9165\n",
      "Epoch 18/30\n",
      "7352/7352 [==============================] - 214s 29ms/step - loss: 0.1205 - acc: 0.9538 - val_loss: 0.3999 - val_acc: 0.9067\n",
      "Epoch 19/30\n",
      "7352/7352 [==============================] - 210s 29ms/step - loss: 0.1225 - acc: 0.9536 - val_loss: 0.4239 - val_acc: 0.9050\n",
      "Epoch 20/30\n",
      "7352/7352 [==============================] - 211s 29ms/step - loss: 0.1223 - acc: 0.9501 - val_loss: 0.3822 - val_acc: 0.9121\n",
      "Epoch 21/30\n",
      "7352/7352 [==============================] - 211s 29ms/step - loss: 0.1153 - acc: 0.9553 - val_loss: 0.3862 - val_acc: 0.9108\n",
      "Epoch 22/30\n",
      "7352/7352 [==============================] - 209s 28ms/step - loss: 0.1112 - acc: 0.9574 - val_loss: 0.3591 - val_acc: 0.9172\n",
      "Epoch 23/30\n",
      "7352/7352 [==============================] - 209s 28ms/step - loss: 0.1359 - acc: 0.9505 - val_loss: 0.3246 - val_acc: 0.9135\n",
      "Epoch 24/30\n",
      "7352/7352 [==============================] - 210s 29ms/step - loss: 0.1138 - acc: 0.9553 - val_loss: 0.3707 - val_acc: 0.9050\n",
      "Epoch 25/30\n",
      "7352/7352 [==============================] - 208s 28ms/step - loss: 0.1228 - acc: 0.9540 - val_loss: 0.4415 - val_acc: 0.8928\n",
      "Epoch 26/30\n",
      "7352/7352 [==============================] - 212s 29ms/step - loss: 0.1191 - acc: 0.9567 - val_loss: 0.3578 - val_acc: 0.9019\n",
      "Epoch 27/30\n",
      "7352/7352 [==============================] - 211s 29ms/step - loss: 0.1354 - acc: 0.9517 - val_loss: 0.3696 - val_acc: 0.9077\n",
      "Epoch 28/30\n",
      "7352/7352 [==============================] - 211s 29ms/step - loss: 0.1421 - acc: 0.9455 - val_loss: 0.3040 - val_acc: 0.9080\n",
      "Epoch 29/30\n",
      "7352/7352 [==============================] - 212s 29ms/step - loss: 0.1249 - acc: 0.9516 - val_loss: 0.4020 - val_acc: 0.9053\n",
      "Epoch 30/30\n",
      "7352/7352 [==============================] - 210s 29ms/step - loss: 0.1192 - acc: 0.9517 - val_loss: 0.4921 - val_acc: 0.9026\n"
     ]
    }
   ],
   "source": [
    "# Training the model\n",
    "history=model.fit(X_train,\n",
    "          Y_train,\n",
    "          batch_size=batch_size,\n",
    "          validation_data=(X_test, Y_test),\n",
    "          epochs=epochs)"
   ]
  },
  {
   "cell_type": "code",
   "execution_count": 25,
   "metadata": {
    "colab": {
     "base_uri": "https://localhost:8080/",
     "height": 35
    },
    "colab_type": "code",
    "id": "oveYlwnr8sp9",
    "outputId": "0d34802f-f45e-4c5f-eb31-aa36e3f86f3f"
   },
   "outputs": [
    {
     "name": "stdout",
     "output_type": "stream",
     "text": [
      "2947/2947 [==============================] - 18s 6ms/step\n"
     ]
    }
   ],
   "source": [
    "scores = model.evaluate(X_test, Y_test)"
   ]
  },
  {
   "cell_type": "code",
   "execution_count": 29,
   "metadata": {
    "colab": {
     "base_uri": "https://localhost:8080/",
     "height": 318
    },
    "colab_type": "code",
    "id": "DavKxiLyVDLn",
    "outputId": "66119446-ec10-412e-9be5-ac0300b3e4f9"
   },
   "outputs": [
    {
     "name": "stdout",
     "output_type": "stream",
     "text": [
      "Test score: 0.49212796406399095\n",
      "Test accuracy: 0.9026128266033254\n"
     ]
    },
    {
     "data": {
      "image/png": "[encoded data removed]",
      "text/plain": [
       "<Figure size 432x288 with 1 Axes>"
      ]
     },
     "metadata": {
      "tags": []
     },
     "output_type": "display_data"
    }
   ],
   "source": [
    "import matplotlib.pyplot as plt\n",
    "%matplotlib inline\n",
    "print('Test score:', scores[0]) \n",
    "print('Test accuracy:', scores[1])\n",
    " \n",
    "fig,ax = plt.subplots(1,1) \n",
    "ax.set_xlabel('epoch') \n",
    "ax.set_ylabel('Categorical Crossentropy Loss')\n",
    " \n",
    "# list of epoch numbers \n",
    "x = list(range(1,epochs+1))\n",
    "\n",
    "vy = history.history['val_loss'] \n",
    "ty = history.history['loss'] \n",
    "plt_dynamic(x, vy, ty, ax)"
   ]
  },
  {
   "cell_type": "code",
   "execution_count": 31,
   "metadata": {
    "colab": {
     "base_uri": "https://localhost:8080/",
     "height": 319
    },
    "colab_type": "code",
    "id": "LW-ANKsDVNdA",
    "outputId": "4506be7e-fc08-46c9-d12a-d1e143205b9f"
   },
   "outputs": [
    {
     "name": "stdout",
     "output_type": "stream",
     "text": [
      "_________________________________________________________________\n",
      "Layer (type)                 Output Shape              Param #   \n",
      "=================================================================\n",
      "lstm_5 (LSTM)                (None, 128, 100)          44000     \n",
      "_________________________________________________________________\n",
      "dropout_4 (Dropout)          (None, 128, 100)          0         \n",
      "_________________________________________________________________\n",
      "lstm_6 (LSTM)                (None, 100)               80400     \n",
      "_________________________________________________________________\n",
      "dropout_5 (Dropout)          (None, 100)               0         \n",
      "_________________________________________________________________\n",
      "dense_3 (Dense)              (None, 6)                 606       \n",
      "=================================================================\n",
      "Total params: 125,006\n",
      "Trainable params: 125,006\n",
      "Non-trainable params: 0\n",
      "_________________________________________________________________\n"
     ]
    }
   ],
   "source": [
    "model = Sequential()\n",
    "# Configuring the parameters\n",
    "model.add(LSTM(100, input_shape=(timesteps,input_dim),return_sequences=True))\n",
    "# Adding a dropout layer\n",
    "model.add(Dropout(0.5))\n",
    "model.add(LSTM(100))\n",
    "model.add(Dropout(0.5))\n",
    "# Adding a dense output layer with sigmoid activation\n",
    "model.add(Dense(n_classes, activation='sigmoid'))\n",
    "model.summary()"
   ]
  },
  {
   "cell_type": "code",
   "execution_count": 0,
   "metadata": {
    "colab": {},
    "colab_type": "code",
    "id": "G5KiAfn6XQJs"
   },
   "outputs": [],
   "source": [
    "# Compiling the model\n",
    "model.compile(loss='binary_crossentropy',\n",
    "              optimizer='rmsprop',\n",
    "              metrics=['accuracy'])\n"
   ]
  },
  {
   "cell_type": "code",
   "execution_count": 38,
   "metadata": {
    "colab": {
     "base_uri": "https://localhost:8080/",
     "height": 588
    },
    "colab_type": "code",
    "id": "PjZy44bqWtXy",
    "outputId": "13f994a6-67a8-4588-a8cc-85db8611fc02"
   },
   "outputs": [
    {
     "name": "stdout",
     "output_type": "stream",
     "text": [
      "Train on 7352 samples, validate on 2947 samples\n",
      "Epoch 1/15\n",
      "7352/7352 [==============================] - 210s 29ms/step - loss: 0.0552 - acc: 0.9804 - val_loss: 0.0923 - val_acc: 0.9710\n",
      "Epoch 2/15\n",
      "7352/7352 [==============================] - 212s 29ms/step - loss: 0.0506 - acc: 0.9816 - val_loss: 0.2160 - val_acc: 0.9455\n",
      "Epoch 3/15\n",
      "7352/7352 [==============================] - 213s 29ms/step - loss: 0.0487 - acc: 0.9824 - val_loss: 0.1309 - val_acc: 0.9661\n",
      "Epoch 4/15\n",
      "7352/7352 [==============================] - 211s 29ms/step - loss: 0.0475 - acc: 0.9821 - val_loss: 0.0972 - val_acc: 0.9699\n",
      "Epoch 5/15\n",
      "7352/7352 [==============================] - 213s 29ms/step - loss: 0.0509 - acc: 0.9816 - val_loss: 0.1432 - val_acc: 0.9669\n",
      "Epoch 6/15\n",
      "7352/7352 [==============================] - 212s 29ms/step - loss: 0.0428 - acc: 0.9838 - val_loss: 0.1031 - val_acc: 0.9706\n",
      "Epoch 7/15\n",
      "7352/7352 [==============================] - 212s 29ms/step - loss: 0.0459 - acc: 0.9827 - val_loss: 0.1170 - val_acc: 0.9720\n",
      "Epoch 8/15\n",
      "7352/7352 [==============================] - 206s 28ms/step - loss: 0.0541 - acc: 0.9828 - val_loss: 0.2550 - val_acc: 0.9630\n",
      "Epoch 9/15\n",
      "7352/7352 [==============================] - 212s 29ms/step - loss: 0.0561 - acc: 0.9820 - val_loss: 0.1446 - val_acc: 0.9667\n",
      "Epoch 10/15\n",
      "7352/7352 [==============================] - 217s 30ms/step - loss: 0.0506 - acc: 0.9814 - val_loss: 0.1239 - val_acc: 0.9712\n",
      "Epoch 11/15\n",
      "7352/7352 [==============================] - 217s 30ms/step - loss: 0.0497 - acc: 0.9831 - val_loss: 0.1066 - val_acc: 0.9721\n",
      "Epoch 12/15\n",
      "7352/7352 [==============================] - 216s 29ms/step - loss: 0.0483 - acc: 0.9830 - val_loss: 0.0959 - val_acc: 0.9692\n",
      "Epoch 13/15\n",
      "7352/7352 [==============================] - 216s 29ms/step - loss: 0.0457 - acc: 0.9836 - val_loss: 0.0903 - val_acc: 0.9737\n",
      "Epoch 14/15\n",
      "7352/7352 [==============================] - 218s 30ms/step - loss: 0.0464 - acc: 0.9830 - val_loss: 0.0956 - val_acc: 0.9737\n",
      "Epoch 15/15\n",
      "7352/7352 [==============================] - 216s 29ms/step - loss: 0.0428 - acc: 0.9838 - val_loss: 0.1271 - val_acc: 0.9724\n"
     ]
    }
   ],
   "source": [
    "# Training the model\n",
    "history=model.fit(X_train,\n",
    "          Y_train,\n",
    "          batch_size=batch_size,\n",
    "          validation_data=(X_test, Y_test),\n",
    "          epochs=15)"
   ]
  },
  {
   "cell_type": "code",
   "execution_count": 39,
   "metadata": {
    "colab": {
     "base_uri": "https://localhost:8080/",
     "height": 35
    },
    "colab_type": "code",
    "id": "E1RGLTzEW-ro",
    "outputId": "e4813d27-5c11-4ff5-88e6-43f72f78209f"
   },
   "outputs": [
    {
     "name": "stdout",
     "output_type": "stream",
     "text": [
      "2947/2947 [==============================] - 19s 6ms/step\n"
     ]
    }
   ],
   "source": [
    "scores = model.evaluate(X_test, Y_test)"
   ]
  },
  {
   "cell_type": "code",
   "execution_count": 43,
   "metadata": {
    "colab": {
     "base_uri": "https://localhost:8080/",
     "height": 318
    },
    "colab_type": "code",
    "id": "S4_CqdKPptRh",
    "outputId": "12cd221d-81e9-440d-f02a-2df6f16c6970"
   },
   "outputs": [
    {
     "name": "stdout",
     "output_type": "stream",
     "text": [
      "Test score: 0.12714491868047254\n",
      "Test accuracy: 0.9724013150891168\n"
     ]
    },
    {
     "data": {
      "image/png": "[encoded data removed]",
      "text/plain": [
       "<Figure size 432x288 with 1 Axes>"
      ]
     },
     "metadata": {
      "tags": []
     },
     "output_type": "display_data"
    }
   ],
   "source": [
    "import matplotlib.pyplot as plt\n",
    "%matplotlib inline\n",
    "print('Test score:', scores[0]) \n",
    "print('Test accuracy:', scores[1])\n",
    " \n",
    "fig,ax = plt.subplots(1,1) \n",
    "ax.set_xlabel('epoch') \n",
    "ax.set_ylabel('Categorical Crossentropy Loss')\n",
    " \n",
    "# list of epoch numbers \n",
    "x = list(range(1,15+1))\n",
    "\n",
    "vy = history.history['val_loss'] \n",
    "ty = history.history['loss'] \n",
    "plt_dynamic(x, vy, ty, ax)"
   ]
  },
  {
   "cell_type": "code",
   "execution_count": 44,
   "metadata": {
    "colab": {
     "base_uri": "https://localhost:8080/",
     "height": 195
    },
    "colab_type": "code",
    "id": "3PeO9gohp3xC",
    "outputId": "5a096469-0cea-4708-ecae-cc4fd78ad6cf"
   },
   "outputs": [
    {
     "name": "stdout",
     "output_type": "stream",
     "text": [
      "Pred                LAYING  SITTING  ...  WALKING_DOWNSTAIRS  WALKING_UPSTAIRS\n",
      "True                                 ...                                      \n",
      "LAYING                 520        0  ...                   0                17\n",
      "SITTING                  4      412  ...                   0                 2\n",
      "STANDING                 0       99  ...                   0                 0\n",
      "WALKING                  0        1  ...                   0                39\n",
      "WALKING_DOWNSTAIRS       0        0  ...                 419                 1\n",
      "WALKING_UPSTAIRS         0        3  ...                   0               463\n",
      "\n",
      "[6 rows x 6 columns]\n"
     ]
    }
   ],
   "source": [
    "# Confusion Matrix\n",
    "print(confusion_matrix(Y_test, model.predict(X_test)))"
   ]
  },
  {
   "cell_type": "code",
   "execution_count": 4,
   "metadata": {
    "colab": {},
    "colab_type": "code",
    "id": "EamDKQ6JrIuX"
   },
   "outputs": [
    {
     "name": "stdout",
     "output_type": "stream",
     "text": [
      "+------+------------------+----------+--------------+------------+---------------+\n",
      "| S.No | No.of.LSTM units | Dropouts | No.of.Layers | Test Score | Test Accuracy |\n",
      "+------+------------------+----------+--------------+------------+---------------+\n",
      "|  1   |        32        |   0.5    |      1       |   0.308    |     0.909     |\n",
      "|  2   |        32        |   0.6    |      1       |   0.623    |     0.761     |\n",
      "|  3   |        32        |   0.3    |      2       |   0.3389   |    0.909783   |\n",
      "|  4   |       100        |   0.5    |      2       |   0.127    |     0.9724    |\n",
      "+------+------------------+----------+--------------+------------+---------------+\n"
     ]
    }
   ],
   "source": [
    "from prettytable import PrettyTable\n",
    "t = PrettyTable()\n",
    "t.field_names = [\"S.No\", \"No.of.LSTM units\",\"Dropouts\", \"No.of.Layers\",\"Test Score\",\"Test Accuracy\"]\n",
    "t.add_row([1,32,0.5,1,0.308,0.909])\n",
    "t.add_row([2,32,0.6,1,0.623,0.761])\n",
    "t.add_row([3,32,0.3,2,0.3389,0.909783])\n",
    "t.add_row([4,100,0.5,2,0.127,0.9724])\n",
    "print(t)"
   ]
  },
  {
   "cell_type": "markdown",
   "metadata": {},
   "source": [
    "Conclusion:By properly tuning hyperparameters we are able to get a higher accuracy than the machine learning model which is modelled from expert designed features"
   ]
  },
  {
   "cell_type": "code",
   "execution_count": null,
   "metadata": {},
   "outputs": [],
   "source": []
  }
 ],
 "metadata": {
  "accelerator": "GPU",
  "colab": {
   "collapsed_sections": [],
   "name": "HAR_LSTM.ipynb",
   "provenance": [],
   "toc_visible": true,
   "version": "0.3.2"
  },
  "kernelspec": {
   "display_name": "Python 3",
   "language": "python",
   "name": "python3"
  },
  "language_info": {
   "codemirror_mode": {
    "name": "ipython",
    "version": 3
   },
   "file_extension": ".py",
   "mimetype": "text/x-python",
   "name": "python",
   "nbconvert_exporter": "python",
   "pygments_lexer": "ipython3",
   "version": "3.6.5"
  }
 },
 "nbformat": 4,
 "nbformat_minor": 1
}
